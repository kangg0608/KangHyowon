{
  "nbformat": 4,
  "nbformat_minor": 0,
  "metadata": {
    "colab": {
      "provenance": [],
      "authorship_tag": "ABX9TyOoeoQyuUuq5Ko2RBV+Xhbw",
      "include_colab_link": true
    },
    "kernelspec": {
      "name": "python3",
      "display_name": "Python 3"
    },
    "language_info": {
      "name": "python"
    }
  },
  "cells": [
    {
      "cell_type": "markdown",
      "metadata": {
        "id": "view-in-github",
        "colab_type": "text"
      },
      "source": [
        "<a href=\"https://colab.research.google.com/github/kangg0608/KangHyowon/blob/main/Untitled0.ipynb\" target=\"_parent\"><img src=\"https://colab.research.google.com/assets/colab-badge.svg\" alt=\"Open In Colab\"/></a>"
      ]
    },
    {
      "cell_type": "markdown",
      "source": [
        "#파이썬\n",
        "#강효원\n",
        "#2022.12.30\n"
      ],
      "metadata": {
        "id": "mOfKpgiHnVoL"
      }
    },
    {
      "cell_type": "code",
      "execution_count": 3,
      "metadata": {
        "colab": {
          "base_uri": "https://localhost:8080/"
        },
        "id": "tZJEzwN-m6sz",
        "outputId": "24beebe9-1336-45e5-ffce-a1281ee1a012"
      },
      "outputs": [
        {
          "output_type": "stream",
          "name": "stdout",
          "text": [
            "Hello world!\n"
          ]
        }
      ],
      "source": [
        "print(\"Hello world!\")"
      ]
    },
    {
      "cell_type": "markdown",
      "source": [],
      "metadata": {
        "id": "oKn1tYj7z7IV"
      }
    },
    {
      "cell_type": "markdown",
      "source": [
        "#1.변수 만들고 변수 지우기"
      ],
      "metadata": {
        "id": "W3FZRvUQnp34"
      }
    },
    {
      "cell_type": "code",
      "source": [
        "a = \"강효원\""
      ],
      "metadata": {
        "id": "iT1nSzI1nLPw"
      },
      "execution_count": 5,
      "outputs": []
    },
    {
      "cell_type": "code",
      "source": [
        "a"
      ],
      "metadata": {
        "colab": {
          "base_uri": "https://localhost:8080/",
          "height": 35
        },
        "id": "MnoqEzhBnma3",
        "outputId": "37ea7d33-5589-43ee-c9d2-99511c4663d5"
      },
      "execution_count": 7,
      "outputs": [
        {
          "output_type": "execute_result",
          "data": {
            "text/plain": [
              "'강효원'"
            ],
            "application/vnd.google.colaboratory.intrinsic+json": {
              "type": "string"
            }
          },
          "metadata": {},
          "execution_count": 7
        }
      ]
    },
    {
      "cell_type": "code",
      "source": [
        "print(a)"
      ],
      "metadata": {
        "colab": {
          "base_uri": "https://localhost:8080/"
        },
        "id": "ffK4YpVxnyBM",
        "outputId": "ed346d04-570a-41ca-89b3-366aae43bb4a"
      },
      "execution_count": 8,
      "outputs": [
        {
          "output_type": "stream",
          "name": "stdout",
          "text": [
            "강효원\n"
          ]
        }
      ]
    },
    {
      "cell_type": "code",
      "source": [
        "del a"
      ],
      "metadata": {
        "id": "B8dqWnxNoFFo"
      },
      "execution_count": 9,
      "outputs": []
    },
    {
      "cell_type": "code",
      "source": [
        "print(a)"
      ],
      "metadata": {
        "colab": {
          "base_uri": "https://localhost:8080/",
          "height": 172
        },
        "id": "im-0KhhQoHUa",
        "outputId": "f47e41c5-e21a-4d4a-a913-71a4d7dc6555"
      },
      "execution_count": 10,
      "outputs": [
        {
          "output_type": "error",
          "ename": "NameError",
          "evalue": "ignored",
          "traceback": [
            "\u001b[0;31m---------------------------------------------------------------------------\u001b[0m",
            "\u001b[0;31mNameError\u001b[0m                                 Traceback (most recent call last)",
            "\u001b[0;32m<ipython-input-10-bca0e2660b9f>\u001b[0m in \u001b[0;36m<module>\u001b[0;34m\u001b[0m\n\u001b[0;32m----> 1\u001b[0;31m \u001b[0mprint\u001b[0m\u001b[0;34m(\u001b[0m\u001b[0ma\u001b[0m\u001b[0;34m)\u001b[0m\u001b[0;34m\u001b[0m\u001b[0;34m\u001b[0m\u001b[0m\n\u001b[0m",
            "\u001b[0;31mNameError\u001b[0m: name 'a' is not defined"
          ]
        }
      ]
    },
    {
      "cell_type": "markdown",
      "source": [
        "#2.기본 사칙연산\n",
        "+ - * /\n",
        "지수 : **  \n",
        "나눈 후 나머지 : %  \n",
        "나눈 후 몫 : //  "
      ],
      "metadata": {
        "id": "UyoOqL2GolfV"
      }
    },
    {
      "cell_type": "code",
      "source": [
        "a=2\n",
        "b=4\n",
        "c=6"
      ],
      "metadata": {
        "id": "QECLBKHRoLww"
      },
      "execution_count": 19,
      "outputs": []
    },
    {
      "cell_type": "code",
      "source": [
        "print(a+b)\n",
        "print(a-c)\n",
        "print(a*b)\n",
        "print(a/c)"
      ],
      "metadata": {
        "colab": {
          "base_uri": "https://localhost:8080/"
        },
        "id": "cQ1K6fEToRso",
        "outputId": "3397ccfb-4bb3-4dca-abbd-ff5d9af49440"
      },
      "execution_count": 13,
      "outputs": [
        {
          "output_type": "stream",
          "name": "stdout",
          "text": [
            "6\n",
            "-4\n",
            "8\n",
            "0.3333333333333333\n"
          ]
        }
      ]
    },
    {
      "cell_type": "code",
      "source": [
        "a"
      ],
      "metadata": {
        "colab": {
          "base_uri": "https://localhost:8080/"
        },
        "id": "7Hg51OsTq8mf",
        "outputId": "f2289231-61a7-4ac4-cac6-911e44d48e57"
      },
      "execution_count": 22,
      "outputs": [
        {
          "output_type": "execute_result",
          "data": {
            "text/plain": [
              "2"
            ]
          },
          "metadata": {},
          "execution_count": 22
        }
      ]
    },
    {
      "cell_type": "code",
      "source": [
        "print(a**3)\n",
        "print(c%b)\n",
        "print(c//b)"
      ],
      "metadata": {
        "colab": {
          "base_uri": "https://localhost:8080/"
        },
        "id": "EmDx3x37qHQK",
        "outputId": "46dccaa9-3bf6-403b-d898-e6854c760248"
      },
      "execution_count": 27,
      "outputs": [
        {
          "output_type": "stream",
          "name": "stdout",
          "text": [
            "8\n",
            "2\n",
            "1\n"
          ]
        }
      ]
    },
    {
      "cell_type": "markdown",
      "source": [
        "#3.type"
      ],
      "metadata": {
        "id": "4rkvi16YotmG"
      }
    },
    {
      "cell_type": "code",
      "source": [
        "a=123\n",
        "type(a)\n",
        "#int = 정수형데이터터"
      ],
      "metadata": {
        "colab": {
          "base_uri": "https://localhost:8080/"
        },
        "id": "RdviAW1Yoetl",
        "outputId": "8193698c-232b-405d-bb24-31019989178b"
      },
      "execution_count": 14,
      "outputs": [
        {
          "output_type": "execute_result",
          "data": {
            "text/plain": [
              "int"
            ]
          },
          "metadata": {},
          "execution_count": 14
        }
      ]
    },
    {
      "cell_type": "code",
      "source": [
        "b= 123.1\n",
        "type(b)\n",
        "#float = 실수수"
      ],
      "metadata": {
        "colab": {
          "base_uri": "https://localhost:8080/"
        },
        "id": "EmP22HkWo0zH",
        "outputId": "60ae8187-eb2b-4c1e-cab4-4f96bde38816"
      },
      "execution_count": 15,
      "outputs": [
        {
          "output_type": "execute_result",
          "data": {
            "text/plain": [
              "float"
            ]
          },
          "metadata": {},
          "execution_count": 15
        }
      ]
    },
    {
      "cell_type": "markdown",
      "source": [
        "4."
      ],
      "metadata": {
        "id": "dN-hDWE6r7zj"
      }
    },
    {
      "cell_type": "code",
      "source": [
        "print(\"ubion's the best.\")\n",
        "print('unoin isn\\'t the best.')"
      ],
      "metadata": {
        "colab": {
          "base_uri": "https://localhost:8080/"
        },
        "id": "OaulAv4XprGx",
        "outputId": "4b3ed8b6-87d9-4a18-c09b-44ab982e5928"
      },
      "execution_count": 32,
      "outputs": [
        {
          "output_type": "stream",
          "name": "stdout",
          "text": [
            "ubion's the best.\n",
            "unoin isn't the best.\n"
          ]
        }
      ]
    },
    {
      "cell_type": "code",
      "source": [
        "friends=[\"똘기\", \"떵이\", \"호치\", \"새초미\"]\n",
        "select=0\n",
        "while select!=9:\n",
        "  print(\"1. 친구 리스트 출력\", \"2. 친구 추가\", \"3.친구 삭제\", \"4. 이름 변경\", \"9. 종료\")\n",
        "  select=int(input(\"메뉴를 선택하시오:\"))\n",
        "  if select==1:\n",
        "    print(\"친구 리스트는:\", friends)\n",
        "    continue\n",
        "  elif select==2:\n",
        "    addfriend=input(\"추가할 친구 이름을 입력하세요:\")\n",
        "    friends.append(addfriend)\n",
        "    print(\"친구 추가가 완료되었습니다\")\n",
        "    continue\n",
        "  elif select==3:\n",
        "    remfriend=input(\"삭제할 친구 이름을 입력하세요:\")\n",
        "    friends.remove(remfriend)\n",
        "    print(\"친구 삭제가 완료되었습니다\")\n",
        "    continue\n",
        "  elif select==4:\n",
        "    chfriend=input(\"이름을 변경할 친구 이름을 입력하세요:\")\n",
        "    chdfriend=input(\"변경 후 이름을 입력하세요:\")\n",
        "    a=friends.index(chfriend)\n",
        "    friends.insert(a,chdfriend)\n",
        "    friends.remove(chfriend)\n",
        "    continue\n",
        "  else:\n",
        "    print(\"종료되었습니다.\")\n",
        "    break"
      ],
      "metadata": {
        "colab": {
          "base_uri": "https://localhost:8080/"
        },
        "id": "mOHIlWmTznJ9",
        "outputId": "9d562c5d-5dcd-466a-8e28-9a083abde060"
      },
      "execution_count": 33,
      "outputs": [
        {
          "output_type": "stream",
          "name": "stdout",
          "text": [
            "1. 친구 리스트 출력 2. 친구 추가 3.친구 삭제 4. 이름 변경 9. 종료\n",
            "메뉴를 선택하시오:1\n",
            "친구 리스트는: ['똘기', '떵이', '호치', '새초미']\n",
            "1. 친구 리스트 출력 2. 친구 추가 3.친구 삭제 4. 이름 변경 9. 종료\n",
            "메뉴를 선택하시오:9\n",
            "종료되었습니다.\n"
          ]
        }
      ]
    }
  ]
}