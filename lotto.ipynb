{
  "nbformat": 4,
  "nbformat_minor": 0,
  "metadata": {
    "colab": {
      "provenance": [],
      "authorship_tag": "ABX9TyM/5dbwh5IybP3LHnCaYdse",
      "include_colab_link": true
    },
    "kernelspec": {
      "name": "python3",
      "display_name": "Python 3"
    },
    "language_info": {
      "name": "python"
    }
  },
  "cells": [
    {
      "cell_type": "markdown",
      "metadata": {
        "id": "view-in-github",
        "colab_type": "text"
      },
      "source": [
        "<a href=\"https://colab.research.google.com/github/kangg0608/KangHyowon/blob/main/lotto.ipynb\" target=\"_parent\"><img src=\"https://colab.research.google.com/assets/colab-badge.svg\" alt=\"Open In Colab\"/></a>"
      ]
    },
    {
      "cell_type": "code",
      "execution_count": 1,
      "metadata": {
        "colab": {
          "base_uri": "https://localhost:8080/"
        },
        "id": "KQpzUeuibX_E",
        "outputId": "2ae73796-b6c2-4a08-a59c-f4734a69ae31"
      },
      "outputs": [
        {
          "output_type": "stream",
          "name": "stdout",
          "text": [
            "[3, 16, 29, 14, 4, 2]\n",
            "오늘의 행운의 로또번호는 [2, 3, 4, 14, 16, 29]입니다\n"
          ]
        }
      ],
      "source": [
        "import random\n",
        "numbers = range(1,46)\n",
        "lotto = random. sample(numbers,6)\n",
        "print(lotto)\n",
        "print(f'오늘의 행운의 로또번호는 {sorted(lotto)}입니다')"
      ]
    }
  ]
}